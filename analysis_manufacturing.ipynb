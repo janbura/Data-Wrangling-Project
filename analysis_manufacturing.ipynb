{
 "cells": [
  {
   "cell_type": "code",
   "execution_count": 1,
   "id": "initial_id",
   "metadata": {
    "collapsed": true,
    "ExecuteTime": {
     "end_time": "2025-01-28T13:20:59.371302Z",
     "start_time": "2025-01-28T13:20:57.623303Z"
    }
   },
   "outputs": [
    {
     "name": "stdout",
     "output_type": "stream",
     "text": [
      "Requirement already satisfied: openpyxl in /Users/janburakowski/anaconda3/lib/python3.11/site-packages (3.1.5)\r\n",
      "Requirement already satisfied: et-xmlfile in /Users/janburakowski/anaconda3/lib/python3.11/site-packages (from openpyxl) (2.0.0)\r\n"
     ]
    }
   ],
   "source": [
    "import pandas as pd\n",
    "from translation import translate_dataframe\n",
    "from project.config import api_key\n",
    "!pip install openpyxl"
   ]
  },
  {
   "cell_type": "code",
   "execution_count": 2,
   "outputs": [
    {
     "data": {
      "text/plain": "                                                    0    1     2     3   \\\n0    Індекси промислової продукції за видами діяльн...  NaN   NaN   NaN   \n1    Indices of Industrial Production, by types of ...  NaN   NaN   NaN   \n2                                     (остаточні дані)  NaN   NaN   NaN   \n3                                         (final data)  NaN   NaN   NaN   \n4    (відсотків до попереднього місяця/ percent to ...  NaN   NaN   NaN   \n..                                                 ...  ...   ...   ...   \n146             Споживчі товари тривалого використання  NaN  77.3  93.6   \n147                                            Енергія  NaN  94.1  88.5   \n148                                                NaN  NaN   NaN   NaN   \n149  ¹ Дані наведено без урахування тимчасово окупо...  NaN   NaN   NaN   \n150  Примітка: індекси переглянуті у зв'язку зі змі...  NaN   NaN   NaN   \n\n        4     5     6      7      8     9      10     11     12     13  \\\n0      NaN   NaN   NaN    NaN    NaN   NaN    NaN    NaN    NaN    NaN   \n1      NaN   NaN   NaN    NaN    NaN   NaN    NaN    NaN    NaN    NaN   \n2      NaN   NaN   NaN    NaN    NaN   NaN    NaN    NaN    NaN    NaN   \n3      NaN   NaN   NaN    NaN    NaN   NaN    NaN    NaN    NaN    NaN   \n4      NaN   NaN   NaN    NaN    NaN   NaN    NaN    NaN    NaN    NaN   \n..     ...   ...   ...    ...    ...   ...    ...    ...    ...    ...   \n146  101.7  90.8  93.8    105  115.6  90.7  123.1   93.6   95.8  109.4   \n147  104.9  90.9  96.2  100.7   99.5  96.8  100.2  108.6  101.4  113.1   \n148    NaN   NaN   NaN    NaN    NaN   NaN    NaN    NaN    NaN    NaN   \n149    NaN   NaN   NaN    NaN    NaN   NaN    NaN    NaN    NaN    NaN   \n150    NaN   NaN   NaN    NaN    NaN   NaN    NaN    NaN    NaN    NaN   \n\n                    14  \n0                  NaN  \n1                  NaN  \n2                  NaN  \n3                  NaN  \n4                  NaN  \n..                 ...  \n146  Consumer durables  \n147             Energy  \n148                NaN  \n149                NaN  \n150                NaN  \n\n[151 rows x 15 columns]",
      "text/html": "<div>\n<style scoped>\n    .dataframe tbody tr th:only-of-type {\n        vertical-align: middle;\n    }\n\n    .dataframe tbody tr th {\n        vertical-align: top;\n    }\n\n    .dataframe thead th {\n        text-align: right;\n    }\n</style>\n<table border=\"1\" class=\"dataframe\">\n  <thead>\n    <tr style=\"text-align: right;\">\n      <th></th>\n      <th>0</th>\n      <th>1</th>\n      <th>2</th>\n      <th>3</th>\n      <th>4</th>\n      <th>5</th>\n      <th>6</th>\n      <th>7</th>\n      <th>8</th>\n      <th>9</th>\n      <th>10</th>\n      <th>11</th>\n      <th>12</th>\n      <th>13</th>\n      <th>14</th>\n    </tr>\n  </thead>\n  <tbody>\n    <tr>\n      <th>0</th>\n      <td>Індекси промислової продукції за видами діяльн...</td>\n      <td>NaN</td>\n      <td>NaN</td>\n      <td>NaN</td>\n      <td>NaN</td>\n      <td>NaN</td>\n      <td>NaN</td>\n      <td>NaN</td>\n      <td>NaN</td>\n      <td>NaN</td>\n      <td>NaN</td>\n      <td>NaN</td>\n      <td>NaN</td>\n      <td>NaN</td>\n      <td>NaN</td>\n    </tr>\n    <tr>\n      <th>1</th>\n      <td>Indices of Industrial Production, by types of ...</td>\n      <td>NaN</td>\n      <td>NaN</td>\n      <td>NaN</td>\n      <td>NaN</td>\n      <td>NaN</td>\n      <td>NaN</td>\n      <td>NaN</td>\n      <td>NaN</td>\n      <td>NaN</td>\n      <td>NaN</td>\n      <td>NaN</td>\n      <td>NaN</td>\n      <td>NaN</td>\n      <td>NaN</td>\n    </tr>\n    <tr>\n      <th>2</th>\n      <td>(остаточні дані)</td>\n      <td>NaN</td>\n      <td>NaN</td>\n      <td>NaN</td>\n      <td>NaN</td>\n      <td>NaN</td>\n      <td>NaN</td>\n      <td>NaN</td>\n      <td>NaN</td>\n      <td>NaN</td>\n      <td>NaN</td>\n      <td>NaN</td>\n      <td>NaN</td>\n      <td>NaN</td>\n      <td>NaN</td>\n    </tr>\n    <tr>\n      <th>3</th>\n      <td>(final data)</td>\n      <td>NaN</td>\n      <td>NaN</td>\n      <td>NaN</td>\n      <td>NaN</td>\n      <td>NaN</td>\n      <td>NaN</td>\n      <td>NaN</td>\n      <td>NaN</td>\n      <td>NaN</td>\n      <td>NaN</td>\n      <td>NaN</td>\n      <td>NaN</td>\n      <td>NaN</td>\n      <td>NaN</td>\n    </tr>\n    <tr>\n      <th>4</th>\n      <td>(відсотків до попереднього місяця/ percent to ...</td>\n      <td>NaN</td>\n      <td>NaN</td>\n      <td>NaN</td>\n      <td>NaN</td>\n      <td>NaN</td>\n      <td>NaN</td>\n      <td>NaN</td>\n      <td>NaN</td>\n      <td>NaN</td>\n      <td>NaN</td>\n      <td>NaN</td>\n      <td>NaN</td>\n      <td>NaN</td>\n      <td>NaN</td>\n    </tr>\n    <tr>\n      <th>...</th>\n      <td>...</td>\n      <td>...</td>\n      <td>...</td>\n      <td>...</td>\n      <td>...</td>\n      <td>...</td>\n      <td>...</td>\n      <td>...</td>\n      <td>...</td>\n      <td>...</td>\n      <td>...</td>\n      <td>...</td>\n      <td>...</td>\n      <td>...</td>\n      <td>...</td>\n    </tr>\n    <tr>\n      <th>146</th>\n      <td>Споживчі товари тривалого використання</td>\n      <td>NaN</td>\n      <td>77.3</td>\n      <td>93.6</td>\n      <td>101.7</td>\n      <td>90.8</td>\n      <td>93.8</td>\n      <td>105</td>\n      <td>115.6</td>\n      <td>90.7</td>\n      <td>123.1</td>\n      <td>93.6</td>\n      <td>95.8</td>\n      <td>109.4</td>\n      <td>Consumer durables</td>\n    </tr>\n    <tr>\n      <th>147</th>\n      <td>Енергія</td>\n      <td>NaN</td>\n      <td>94.1</td>\n      <td>88.5</td>\n      <td>104.9</td>\n      <td>90.9</td>\n      <td>96.2</td>\n      <td>100.7</td>\n      <td>99.5</td>\n      <td>96.8</td>\n      <td>100.2</td>\n      <td>108.6</td>\n      <td>101.4</td>\n      <td>113.1</td>\n      <td>Energy</td>\n    </tr>\n    <tr>\n      <th>148</th>\n      <td>NaN</td>\n      <td>NaN</td>\n      <td>NaN</td>\n      <td>NaN</td>\n      <td>NaN</td>\n      <td>NaN</td>\n      <td>NaN</td>\n      <td>NaN</td>\n      <td>NaN</td>\n      <td>NaN</td>\n      <td>NaN</td>\n      <td>NaN</td>\n      <td>NaN</td>\n      <td>NaN</td>\n      <td>NaN</td>\n    </tr>\n    <tr>\n      <th>149</th>\n      <td>¹ Дані наведено без урахування тимчасово окупо...</td>\n      <td>NaN</td>\n      <td>NaN</td>\n      <td>NaN</td>\n      <td>NaN</td>\n      <td>NaN</td>\n      <td>NaN</td>\n      <td>NaN</td>\n      <td>NaN</td>\n      <td>NaN</td>\n      <td>NaN</td>\n      <td>NaN</td>\n      <td>NaN</td>\n      <td>NaN</td>\n      <td>NaN</td>\n    </tr>\n    <tr>\n      <th>150</th>\n      <td>Примітка: індекси переглянуті у зв'язку зі змі...</td>\n      <td>NaN</td>\n      <td>NaN</td>\n      <td>NaN</td>\n      <td>NaN</td>\n      <td>NaN</td>\n      <td>NaN</td>\n      <td>NaN</td>\n      <td>NaN</td>\n      <td>NaN</td>\n      <td>NaN</td>\n      <td>NaN</td>\n      <td>NaN</td>\n      <td>NaN</td>\n      <td>NaN</td>\n    </tr>\n  </tbody>\n</table>\n<p>151 rows × 15 columns</p>\n</div>"
     },
     "execution_count": 2,
     "metadata": {},
     "output_type": "execute_result"
    }
   ],
   "source": [
    "file_path = 'data/Indices of Industrial Production 2015.xlsx'\n",
    "data = pd.read_excel(file_path, header=None)\n",
    "\n",
    "data"
   ],
   "metadata": {
    "collapsed": false,
    "ExecuteTime": {
     "end_time": "2025-01-28T13:20:59.468842Z",
     "start_time": "2025-01-28T13:20:59.373313Z"
    }
   },
   "id": "b306747785f4a675"
  },
  {
   "cell_type": "markdown",
   "source": [],
   "metadata": {
    "collapsed": false
   },
   "id": "8fbd0539adfd0c75"
  },
  {
   "cell_type": "code",
   "execution_count": 3,
   "outputs": [
    {
     "data": {
      "text/plain": "                                                    0   \\\n5                                                  NaN   \n6                                        Промисловість   \n7           за видами діяльності / by type of activity   \n8                   Добувна та переробна промисловість   \n9         Добувна промисловість і розроблення кар'єрів   \n..                                                 ...   \n146             Споживчі товари тривалого використання   \n147                                            Енергія   \n148                                                NaN   \n149  ¹ Дані наведено без урахування тимчасово окупо...   \n150  Примітка: індекси переглянуті у зв'язку зі змі...   \n\n                                        1                   2   \\\n5    Код за КВЕД-2010 /\\nCode of CTEA-2010  Січень / \\nJanuary   \n6                                    B+C+D                85.4   \n7                                      NaN                 NaN   \n8                                      B+C                84.3   \n9                                        B                96.6   \n..                                     ...                 ...   \n146                                    NaN                77.3   \n147                                    NaN                94.1   \n148                                    NaN                 NaN   \n149                                    NaN                 NaN   \n150                                    NaN                 NaN   \n\n                     3                   4                  5   \\\n5    Лютий / \\nFebruary  Березень / \\nMarch  Квітень / \\nApril   \n6                  96.5               107.1                 96   \n7                   NaN                 NaN                NaN   \n8                  98.6               108.5               98.9   \n9                  89.9               109.8               98.3   \n..                  ...                 ...                ...   \n146                93.6               101.7               90.8   \n147                88.5               104.9               90.9   \n148                 NaN                 NaN                NaN   \n149                 NaN                 NaN                NaN   \n150                 NaN                 NaN                NaN   \n\n                 6                7                8                  9   \\\n5    Травень /\\nMay  Червень/ \\nJune  Липень / \\nJuly  Серпень/ \\nAugust   \n6               100            100.2            100.9                 96   \n7               NaN              NaN              NaN                NaN   \n8               102            100.7            100.3               96.7   \n9             106.6             99.7             97.4              101.6   \n..              ...              ...              ...                ...   \n146            93.8              105            115.6               90.7   \n147            96.2            100.7             99.5               96.8   \n148             NaN              NaN              NaN                NaN   \n149             NaN              NaN              NaN                NaN   \n150             NaN              NaN              NaN                NaN   \n\n                         10                   11                     12  \\\n5    Вересень / \\nSeptember  Жовтень / \\nOctober  Листопад / \\nNovember   \n6                     106.2                108.1                   97.7   \n7                       NaN                  NaN                    NaN   \n8                     106.7                106.7                   95.3   \n9                      97.5                103.4                     90   \n..                      ...                  ...                    ...   \n146                   123.1                 93.6                   95.8   \n147                   100.2                108.6                  101.4   \n148                     NaN                  NaN                    NaN   \n149                     NaN                  NaN                    NaN   \n150                     NaN                  NaN                    NaN   \n\n                       13                        14  \n5    Грудень / \\nDecember                       NaN  \n6                   102.9                  Industry  \n7                     NaN                       NaN  \n8                   100.7  Mining and manufacturing  \n9                   109.7      Mining and quarrying  \n..                    ...                       ...  \n146                 109.4         Consumer durables  \n147                 113.1                    Energy  \n148                   NaN                       NaN  \n149                   NaN                       NaN  \n150                   NaN                       NaN  \n\n[146 rows x 15 columns]",
      "text/html": "<div>\n<style scoped>\n    .dataframe tbody tr th:only-of-type {\n        vertical-align: middle;\n    }\n\n    .dataframe tbody tr th {\n        vertical-align: top;\n    }\n\n    .dataframe thead th {\n        text-align: right;\n    }\n</style>\n<table border=\"1\" class=\"dataframe\">\n  <thead>\n    <tr style=\"text-align: right;\">\n      <th></th>\n      <th>0</th>\n      <th>1</th>\n      <th>2</th>\n      <th>3</th>\n      <th>4</th>\n      <th>5</th>\n      <th>6</th>\n      <th>7</th>\n      <th>8</th>\n      <th>9</th>\n      <th>10</th>\n      <th>11</th>\n      <th>12</th>\n      <th>13</th>\n      <th>14</th>\n    </tr>\n  </thead>\n  <tbody>\n    <tr>\n      <th>5</th>\n      <td>NaN</td>\n      <td>Код за КВЕД-2010 /\\nCode of CTEA-2010</td>\n      <td>Січень / \\nJanuary</td>\n      <td>Лютий / \\nFebruary</td>\n      <td>Березень / \\nMarch</td>\n      <td>Квітень / \\nApril</td>\n      <td>Травень /\\nMay</td>\n      <td>Червень/ \\nJune</td>\n      <td>Липень / \\nJuly</td>\n      <td>Серпень/ \\nAugust</td>\n      <td>Вересень / \\nSeptember</td>\n      <td>Жовтень / \\nOctober</td>\n      <td>Листопад / \\nNovember</td>\n      <td>Грудень / \\nDecember</td>\n      <td>NaN</td>\n    </tr>\n    <tr>\n      <th>6</th>\n      <td>Промисловість</td>\n      <td>B+C+D</td>\n      <td>85.4</td>\n      <td>96.5</td>\n      <td>107.1</td>\n      <td>96</td>\n      <td>100</td>\n      <td>100.2</td>\n      <td>100.9</td>\n      <td>96</td>\n      <td>106.2</td>\n      <td>108.1</td>\n      <td>97.7</td>\n      <td>102.9</td>\n      <td>Industry</td>\n    </tr>\n    <tr>\n      <th>7</th>\n      <td>за видами діяльності / by type of activity</td>\n      <td>NaN</td>\n      <td>NaN</td>\n      <td>NaN</td>\n      <td>NaN</td>\n      <td>NaN</td>\n      <td>NaN</td>\n      <td>NaN</td>\n      <td>NaN</td>\n      <td>NaN</td>\n      <td>NaN</td>\n      <td>NaN</td>\n      <td>NaN</td>\n      <td>NaN</td>\n      <td>NaN</td>\n    </tr>\n    <tr>\n      <th>8</th>\n      <td>Добувна та переробна промисловість</td>\n      <td>B+C</td>\n      <td>84.3</td>\n      <td>98.6</td>\n      <td>108.5</td>\n      <td>98.9</td>\n      <td>102</td>\n      <td>100.7</td>\n      <td>100.3</td>\n      <td>96.7</td>\n      <td>106.7</td>\n      <td>106.7</td>\n      <td>95.3</td>\n      <td>100.7</td>\n      <td>Mining and manufacturing</td>\n    </tr>\n    <tr>\n      <th>9</th>\n      <td>Добувна промисловість і розроблення кар'єрів</td>\n      <td>B</td>\n      <td>96.6</td>\n      <td>89.9</td>\n      <td>109.8</td>\n      <td>98.3</td>\n      <td>106.6</td>\n      <td>99.7</td>\n      <td>97.4</td>\n      <td>101.6</td>\n      <td>97.5</td>\n      <td>103.4</td>\n      <td>90</td>\n      <td>109.7</td>\n      <td>Mining and quarrying</td>\n    </tr>\n    <tr>\n      <th>...</th>\n      <td>...</td>\n      <td>...</td>\n      <td>...</td>\n      <td>...</td>\n      <td>...</td>\n      <td>...</td>\n      <td>...</td>\n      <td>...</td>\n      <td>...</td>\n      <td>...</td>\n      <td>...</td>\n      <td>...</td>\n      <td>...</td>\n      <td>...</td>\n      <td>...</td>\n    </tr>\n    <tr>\n      <th>146</th>\n      <td>Споживчі товари тривалого використання</td>\n      <td>NaN</td>\n      <td>77.3</td>\n      <td>93.6</td>\n      <td>101.7</td>\n      <td>90.8</td>\n      <td>93.8</td>\n      <td>105</td>\n      <td>115.6</td>\n      <td>90.7</td>\n      <td>123.1</td>\n      <td>93.6</td>\n      <td>95.8</td>\n      <td>109.4</td>\n      <td>Consumer durables</td>\n    </tr>\n    <tr>\n      <th>147</th>\n      <td>Енергія</td>\n      <td>NaN</td>\n      <td>94.1</td>\n      <td>88.5</td>\n      <td>104.9</td>\n      <td>90.9</td>\n      <td>96.2</td>\n      <td>100.7</td>\n      <td>99.5</td>\n      <td>96.8</td>\n      <td>100.2</td>\n      <td>108.6</td>\n      <td>101.4</td>\n      <td>113.1</td>\n      <td>Energy</td>\n    </tr>\n    <tr>\n      <th>148</th>\n      <td>NaN</td>\n      <td>NaN</td>\n      <td>NaN</td>\n      <td>NaN</td>\n      <td>NaN</td>\n      <td>NaN</td>\n      <td>NaN</td>\n      <td>NaN</td>\n      <td>NaN</td>\n      <td>NaN</td>\n      <td>NaN</td>\n      <td>NaN</td>\n      <td>NaN</td>\n      <td>NaN</td>\n      <td>NaN</td>\n    </tr>\n    <tr>\n      <th>149</th>\n      <td>¹ Дані наведено без урахування тимчасово окупо...</td>\n      <td>NaN</td>\n      <td>NaN</td>\n      <td>NaN</td>\n      <td>NaN</td>\n      <td>NaN</td>\n      <td>NaN</td>\n      <td>NaN</td>\n      <td>NaN</td>\n      <td>NaN</td>\n      <td>NaN</td>\n      <td>NaN</td>\n      <td>NaN</td>\n      <td>NaN</td>\n      <td>NaN</td>\n    </tr>\n    <tr>\n      <th>150</th>\n      <td>Примітка: індекси переглянуті у зв'язку зі змі...</td>\n      <td>NaN</td>\n      <td>NaN</td>\n      <td>NaN</td>\n      <td>NaN</td>\n      <td>NaN</td>\n      <td>NaN</td>\n      <td>NaN</td>\n      <td>NaN</td>\n      <td>NaN</td>\n      <td>NaN</td>\n      <td>NaN</td>\n      <td>NaN</td>\n      <td>NaN</td>\n      <td>NaN</td>\n    </tr>\n  </tbody>\n</table>\n<p>146 rows × 15 columns</p>\n</div>"
     },
     "execution_count": 3,
     "metadata": {},
     "output_type": "execute_result"
    }
   ],
   "source": [
    "data = data.iloc[5:]\n",
    "data"
   ],
   "metadata": {
    "collapsed": false,
    "ExecuteTime": {
     "end_time": "2025-01-28T13:20:59.472972Z",
     "start_time": "2025-01-28T13:20:59.469158Z"
    }
   },
   "id": "895c4713bb3d8792"
  },
  {
   "cell_type": "code",
   "execution_count": 4,
   "outputs": [
    {
     "data": {
      "text/plain": "                     2                   3                   4   \\\n5    Січень / \\nJanuary  Лютий / \\nFebruary  Березень / \\nMarch   \n6                  85.4                96.5               107.1   \n7                   NaN                 NaN                 NaN   \n8                  84.3                98.6               108.5   \n9                  96.6                89.9               109.8   \n..                  ...                 ...                 ...   \n146                77.3                93.6               101.7   \n147                94.1                88.5               104.9   \n148                 NaN                 NaN                 NaN   \n149                 NaN                 NaN                 NaN   \n150                 NaN                 NaN                 NaN   \n\n                    5               6                7                8   \\\n5    Квітень / \\nApril  Травень /\\nMay  Червень/ \\nJune  Липень / \\nJuly   \n6                   96             100            100.2            100.9   \n7                  NaN             NaN              NaN              NaN   \n8                 98.9             102            100.7            100.3   \n9                 98.3           106.6             99.7             97.4   \n..                 ...             ...              ...              ...   \n146               90.8            93.8              105            115.6   \n147               90.9            96.2            100.7             99.5   \n148                NaN             NaN              NaN              NaN   \n149                NaN             NaN              NaN              NaN   \n150                NaN             NaN              NaN              NaN   \n\n                    9                       10                   11  \\\n5    Серпень/ \\nAugust  Вересень / \\nSeptember  Жовтень / \\nOctober   \n6                   96                   106.2                108.1   \n7                  NaN                     NaN                  NaN   \n8                 96.7                   106.7                106.7   \n9                101.6                    97.5                103.4   \n..                 ...                     ...                  ...   \n146               90.7                   123.1                 93.6   \n147               96.8                   100.2                108.6   \n148                NaN                     NaN                  NaN   \n149                NaN                     NaN                  NaN   \n150                NaN                     NaN                  NaN   \n\n                        12                    13                        14  \n5    Листопад / \\nNovember  Грудень / \\nDecember                       NaN  \n6                     97.7                 102.9                  Industry  \n7                      NaN                   NaN                       NaN  \n8                     95.3                 100.7  Mining and manufacturing  \n9                       90                 109.7      Mining and quarrying  \n..                     ...                   ...                       ...  \n146                   95.8                 109.4         Consumer durables  \n147                  101.4                 113.1                    Energy  \n148                    NaN                   NaN                       NaN  \n149                    NaN                   NaN                       NaN  \n150                    NaN                   NaN                       NaN  \n\n[146 rows x 13 columns]",
      "text/html": "<div>\n<style scoped>\n    .dataframe tbody tr th:only-of-type {\n        vertical-align: middle;\n    }\n\n    .dataframe tbody tr th {\n        vertical-align: top;\n    }\n\n    .dataframe thead th {\n        text-align: right;\n    }\n</style>\n<table border=\"1\" class=\"dataframe\">\n  <thead>\n    <tr style=\"text-align: right;\">\n      <th></th>\n      <th>2</th>\n      <th>3</th>\n      <th>4</th>\n      <th>5</th>\n      <th>6</th>\n      <th>7</th>\n      <th>8</th>\n      <th>9</th>\n      <th>10</th>\n      <th>11</th>\n      <th>12</th>\n      <th>13</th>\n      <th>14</th>\n    </tr>\n  </thead>\n  <tbody>\n    <tr>\n      <th>5</th>\n      <td>Січень / \\nJanuary</td>\n      <td>Лютий / \\nFebruary</td>\n      <td>Березень / \\nMarch</td>\n      <td>Квітень / \\nApril</td>\n      <td>Травень /\\nMay</td>\n      <td>Червень/ \\nJune</td>\n      <td>Липень / \\nJuly</td>\n      <td>Серпень/ \\nAugust</td>\n      <td>Вересень / \\nSeptember</td>\n      <td>Жовтень / \\nOctober</td>\n      <td>Листопад / \\nNovember</td>\n      <td>Грудень / \\nDecember</td>\n      <td>NaN</td>\n    </tr>\n    <tr>\n      <th>6</th>\n      <td>85.4</td>\n      <td>96.5</td>\n      <td>107.1</td>\n      <td>96</td>\n      <td>100</td>\n      <td>100.2</td>\n      <td>100.9</td>\n      <td>96</td>\n      <td>106.2</td>\n      <td>108.1</td>\n      <td>97.7</td>\n      <td>102.9</td>\n      <td>Industry</td>\n    </tr>\n    <tr>\n      <th>7</th>\n      <td>NaN</td>\n      <td>NaN</td>\n      <td>NaN</td>\n      <td>NaN</td>\n      <td>NaN</td>\n      <td>NaN</td>\n      <td>NaN</td>\n      <td>NaN</td>\n      <td>NaN</td>\n      <td>NaN</td>\n      <td>NaN</td>\n      <td>NaN</td>\n      <td>NaN</td>\n    </tr>\n    <tr>\n      <th>8</th>\n      <td>84.3</td>\n      <td>98.6</td>\n      <td>108.5</td>\n      <td>98.9</td>\n      <td>102</td>\n      <td>100.7</td>\n      <td>100.3</td>\n      <td>96.7</td>\n      <td>106.7</td>\n      <td>106.7</td>\n      <td>95.3</td>\n      <td>100.7</td>\n      <td>Mining and manufacturing</td>\n    </tr>\n    <tr>\n      <th>9</th>\n      <td>96.6</td>\n      <td>89.9</td>\n      <td>109.8</td>\n      <td>98.3</td>\n      <td>106.6</td>\n      <td>99.7</td>\n      <td>97.4</td>\n      <td>101.6</td>\n      <td>97.5</td>\n      <td>103.4</td>\n      <td>90</td>\n      <td>109.7</td>\n      <td>Mining and quarrying</td>\n    </tr>\n    <tr>\n      <th>...</th>\n      <td>...</td>\n      <td>...</td>\n      <td>...</td>\n      <td>...</td>\n      <td>...</td>\n      <td>...</td>\n      <td>...</td>\n      <td>...</td>\n      <td>...</td>\n      <td>...</td>\n      <td>...</td>\n      <td>...</td>\n      <td>...</td>\n    </tr>\n    <tr>\n      <th>146</th>\n      <td>77.3</td>\n      <td>93.6</td>\n      <td>101.7</td>\n      <td>90.8</td>\n      <td>93.8</td>\n      <td>105</td>\n      <td>115.6</td>\n      <td>90.7</td>\n      <td>123.1</td>\n      <td>93.6</td>\n      <td>95.8</td>\n      <td>109.4</td>\n      <td>Consumer durables</td>\n    </tr>\n    <tr>\n      <th>147</th>\n      <td>94.1</td>\n      <td>88.5</td>\n      <td>104.9</td>\n      <td>90.9</td>\n      <td>96.2</td>\n      <td>100.7</td>\n      <td>99.5</td>\n      <td>96.8</td>\n      <td>100.2</td>\n      <td>108.6</td>\n      <td>101.4</td>\n      <td>113.1</td>\n      <td>Energy</td>\n    </tr>\n    <tr>\n      <th>148</th>\n      <td>NaN</td>\n      <td>NaN</td>\n      <td>NaN</td>\n      <td>NaN</td>\n      <td>NaN</td>\n      <td>NaN</td>\n      <td>NaN</td>\n      <td>NaN</td>\n      <td>NaN</td>\n      <td>NaN</td>\n      <td>NaN</td>\n      <td>NaN</td>\n      <td>NaN</td>\n    </tr>\n    <tr>\n      <th>149</th>\n      <td>NaN</td>\n      <td>NaN</td>\n      <td>NaN</td>\n      <td>NaN</td>\n      <td>NaN</td>\n      <td>NaN</td>\n      <td>NaN</td>\n      <td>NaN</td>\n      <td>NaN</td>\n      <td>NaN</td>\n      <td>NaN</td>\n      <td>NaN</td>\n      <td>NaN</td>\n    </tr>\n    <tr>\n      <th>150</th>\n      <td>NaN</td>\n      <td>NaN</td>\n      <td>NaN</td>\n      <td>NaN</td>\n      <td>NaN</td>\n      <td>NaN</td>\n      <td>NaN</td>\n      <td>NaN</td>\n      <td>NaN</td>\n      <td>NaN</td>\n      <td>NaN</td>\n      <td>NaN</td>\n      <td>NaN</td>\n    </tr>\n  </tbody>\n</table>\n<p>146 rows × 13 columns</p>\n</div>"
     },
     "execution_count": 4,
     "metadata": {},
     "output_type": "execute_result"
    }
   ],
   "source": [
    "data = data.drop(data.columns[0], axis=1)\n",
    "data = data.drop(data.columns[0], axis=1)\n",
    "\n",
    "data"
   ],
   "metadata": {
    "collapsed": false,
    "ExecuteTime": {
     "end_time": "2025-01-28T13:20:59.478540Z",
     "start_time": "2025-01-28T13:20:59.475913Z"
    }
   },
   "id": "949efb54d972e03b"
  },
  {
   "cell_type": "code",
   "execution_count": 5,
   "outputs": [
    {
     "data": {
      "text/plain": "                           14                  2                   3   \\\n5                         NaN  Січень / \\nJanuary  Лютий / \\nFebruary   \n6                    Industry                85.4                96.5   \n7                         NaN                 NaN                 NaN   \n8    Mining and manufacturing                84.3                98.6   \n9        Mining and quarrying                96.6                89.9   \n..                        ...                 ...                 ...   \n146         Consumer durables                77.3                93.6   \n147                    Energy                94.1                88.5   \n148                       NaN                 NaN                 NaN   \n149                       NaN                 NaN                 NaN   \n150                       NaN                 NaN                 NaN   \n\n                     4                  5               6                7   \\\n5    Березень / \\nMarch  Квітень / \\nApril  Травень /\\nMay  Червень/ \\nJune   \n6                 107.1                 96             100            100.2   \n7                   NaN                NaN             NaN              NaN   \n8                 108.5               98.9             102            100.7   \n9                 109.8               98.3           106.6             99.7   \n..                  ...                ...             ...              ...   \n146               101.7               90.8            93.8              105   \n147               104.9               90.9            96.2            100.7   \n148                 NaN                NaN             NaN              NaN   \n149                 NaN                NaN             NaN              NaN   \n150                 NaN                NaN             NaN              NaN   \n\n                  8                  9                       10  \\\n5    Липень / \\nJuly  Серпень/ \\nAugust  Вересень / \\nSeptember   \n6              100.9                 96                   106.2   \n7                NaN                NaN                     NaN   \n8              100.3               96.7                   106.7   \n9               97.4              101.6                    97.5   \n..               ...                ...                     ...   \n146            115.6               90.7                   123.1   \n147             99.5               96.8                   100.2   \n148              NaN                NaN                     NaN   \n149              NaN                NaN                     NaN   \n150              NaN                NaN                     NaN   \n\n                      11                     12                    13  \n5    Жовтень / \\nOctober  Листопад / \\nNovember  Грудень / \\nDecember  \n6                  108.1                   97.7                 102.9  \n7                    NaN                    NaN                   NaN  \n8                  106.7                   95.3                 100.7  \n9                  103.4                     90                 109.7  \n..                   ...                    ...                   ...  \n146                 93.6                   95.8                 109.4  \n147                108.6                  101.4                 113.1  \n148                  NaN                    NaN                   NaN  \n149                  NaN                    NaN                   NaN  \n150                  NaN                    NaN                   NaN  \n\n[146 rows x 13 columns]",
      "text/html": "<div>\n<style scoped>\n    .dataframe tbody tr th:only-of-type {\n        vertical-align: middle;\n    }\n\n    .dataframe tbody tr th {\n        vertical-align: top;\n    }\n\n    .dataframe thead th {\n        text-align: right;\n    }\n</style>\n<table border=\"1\" class=\"dataframe\">\n  <thead>\n    <tr style=\"text-align: right;\">\n      <th></th>\n      <th>14</th>\n      <th>2</th>\n      <th>3</th>\n      <th>4</th>\n      <th>5</th>\n      <th>6</th>\n      <th>7</th>\n      <th>8</th>\n      <th>9</th>\n      <th>10</th>\n      <th>11</th>\n      <th>12</th>\n      <th>13</th>\n    </tr>\n  </thead>\n  <tbody>\n    <tr>\n      <th>5</th>\n      <td>NaN</td>\n      <td>Січень / \\nJanuary</td>\n      <td>Лютий / \\nFebruary</td>\n      <td>Березень / \\nMarch</td>\n      <td>Квітень / \\nApril</td>\n      <td>Травень /\\nMay</td>\n      <td>Червень/ \\nJune</td>\n      <td>Липень / \\nJuly</td>\n      <td>Серпень/ \\nAugust</td>\n      <td>Вересень / \\nSeptember</td>\n      <td>Жовтень / \\nOctober</td>\n      <td>Листопад / \\nNovember</td>\n      <td>Грудень / \\nDecember</td>\n    </tr>\n    <tr>\n      <th>6</th>\n      <td>Industry</td>\n      <td>85.4</td>\n      <td>96.5</td>\n      <td>107.1</td>\n      <td>96</td>\n      <td>100</td>\n      <td>100.2</td>\n      <td>100.9</td>\n      <td>96</td>\n      <td>106.2</td>\n      <td>108.1</td>\n      <td>97.7</td>\n      <td>102.9</td>\n    </tr>\n    <tr>\n      <th>7</th>\n      <td>NaN</td>\n      <td>NaN</td>\n      <td>NaN</td>\n      <td>NaN</td>\n      <td>NaN</td>\n      <td>NaN</td>\n      <td>NaN</td>\n      <td>NaN</td>\n      <td>NaN</td>\n      <td>NaN</td>\n      <td>NaN</td>\n      <td>NaN</td>\n      <td>NaN</td>\n    </tr>\n    <tr>\n      <th>8</th>\n      <td>Mining and manufacturing</td>\n      <td>84.3</td>\n      <td>98.6</td>\n      <td>108.5</td>\n      <td>98.9</td>\n      <td>102</td>\n      <td>100.7</td>\n      <td>100.3</td>\n      <td>96.7</td>\n      <td>106.7</td>\n      <td>106.7</td>\n      <td>95.3</td>\n      <td>100.7</td>\n    </tr>\n    <tr>\n      <th>9</th>\n      <td>Mining and quarrying</td>\n      <td>96.6</td>\n      <td>89.9</td>\n      <td>109.8</td>\n      <td>98.3</td>\n      <td>106.6</td>\n      <td>99.7</td>\n      <td>97.4</td>\n      <td>101.6</td>\n      <td>97.5</td>\n      <td>103.4</td>\n      <td>90</td>\n      <td>109.7</td>\n    </tr>\n    <tr>\n      <th>...</th>\n      <td>...</td>\n      <td>...</td>\n      <td>...</td>\n      <td>...</td>\n      <td>...</td>\n      <td>...</td>\n      <td>...</td>\n      <td>...</td>\n      <td>...</td>\n      <td>...</td>\n      <td>...</td>\n      <td>...</td>\n      <td>...</td>\n    </tr>\n    <tr>\n      <th>146</th>\n      <td>Consumer durables</td>\n      <td>77.3</td>\n      <td>93.6</td>\n      <td>101.7</td>\n      <td>90.8</td>\n      <td>93.8</td>\n      <td>105</td>\n      <td>115.6</td>\n      <td>90.7</td>\n      <td>123.1</td>\n      <td>93.6</td>\n      <td>95.8</td>\n      <td>109.4</td>\n    </tr>\n    <tr>\n      <th>147</th>\n      <td>Energy</td>\n      <td>94.1</td>\n      <td>88.5</td>\n      <td>104.9</td>\n      <td>90.9</td>\n      <td>96.2</td>\n      <td>100.7</td>\n      <td>99.5</td>\n      <td>96.8</td>\n      <td>100.2</td>\n      <td>108.6</td>\n      <td>101.4</td>\n      <td>113.1</td>\n    </tr>\n    <tr>\n      <th>148</th>\n      <td>NaN</td>\n      <td>NaN</td>\n      <td>NaN</td>\n      <td>NaN</td>\n      <td>NaN</td>\n      <td>NaN</td>\n      <td>NaN</td>\n      <td>NaN</td>\n      <td>NaN</td>\n      <td>NaN</td>\n      <td>NaN</td>\n      <td>NaN</td>\n      <td>NaN</td>\n    </tr>\n    <tr>\n      <th>149</th>\n      <td>NaN</td>\n      <td>NaN</td>\n      <td>NaN</td>\n      <td>NaN</td>\n      <td>NaN</td>\n      <td>NaN</td>\n      <td>NaN</td>\n      <td>NaN</td>\n      <td>NaN</td>\n      <td>NaN</td>\n      <td>NaN</td>\n      <td>NaN</td>\n      <td>NaN</td>\n    </tr>\n    <tr>\n      <th>150</th>\n      <td>NaN</td>\n      <td>NaN</td>\n      <td>NaN</td>\n      <td>NaN</td>\n      <td>NaN</td>\n      <td>NaN</td>\n      <td>NaN</td>\n      <td>NaN</td>\n      <td>NaN</td>\n      <td>NaN</td>\n      <td>NaN</td>\n      <td>NaN</td>\n      <td>NaN</td>\n    </tr>\n  </tbody>\n</table>\n<p>146 rows × 13 columns</p>\n</div>"
     },
     "execution_count": 5,
     "metadata": {},
     "output_type": "execute_result"
    }
   ],
   "source": [
    "col_to_move = data.columns[12]\n",
    "\n",
    "data = data[[col_to_move] + [col for col in data.columns if col != col_to_move]]\n",
    "\n",
    "data"
   ],
   "metadata": {
    "collapsed": false,
    "ExecuteTime": {
     "end_time": "2025-01-28T13:20:59.486748Z",
     "start_time": "2025-01-28T13:20:59.482559Z"
    }
   },
   "id": "9c387d2a5dbae78e"
  },
  {
   "cell_type": "code",
   "execution_count": 6,
   "outputs": [
    {
     "data": {
      "text/plain": "                          14    2      3      4     5      6      7      8   \\\n8   Mining and manufacturing  84.3   98.6  108.5  98.9    102  100.7  100.3   \n9       Mining and quarrying  96.6   89.9  109.8  98.3  106.6   99.7   97.4   \n16             Manufacturing  78.7  103.4  107.8  99.2   99.8  101.2  101.8   \n\n       9      10     11    12     13  \n8    96.7  106.7  106.7  95.3  100.7  \n9   101.6   97.5  103.4    90  109.7  \n16   94.3  111.5  108.3  97.6     97  ",
      "text/html": "<div>\n<style scoped>\n    .dataframe tbody tr th:only-of-type {\n        vertical-align: middle;\n    }\n\n    .dataframe tbody tr th {\n        vertical-align: top;\n    }\n\n    .dataframe thead th {\n        text-align: right;\n    }\n</style>\n<table border=\"1\" class=\"dataframe\">\n  <thead>\n    <tr style=\"text-align: right;\">\n      <th></th>\n      <th>14</th>\n      <th>2</th>\n      <th>3</th>\n      <th>4</th>\n      <th>5</th>\n      <th>6</th>\n      <th>7</th>\n      <th>8</th>\n      <th>9</th>\n      <th>10</th>\n      <th>11</th>\n      <th>12</th>\n      <th>13</th>\n    </tr>\n  </thead>\n  <tbody>\n    <tr>\n      <th>8</th>\n      <td>Mining and manufacturing</td>\n      <td>84.3</td>\n      <td>98.6</td>\n      <td>108.5</td>\n      <td>98.9</td>\n      <td>102</td>\n      <td>100.7</td>\n      <td>100.3</td>\n      <td>96.7</td>\n      <td>106.7</td>\n      <td>106.7</td>\n      <td>95.3</td>\n      <td>100.7</td>\n    </tr>\n    <tr>\n      <th>9</th>\n      <td>Mining and quarrying</td>\n      <td>96.6</td>\n      <td>89.9</td>\n      <td>109.8</td>\n      <td>98.3</td>\n      <td>106.6</td>\n      <td>99.7</td>\n      <td>97.4</td>\n      <td>101.6</td>\n      <td>97.5</td>\n      <td>103.4</td>\n      <td>90</td>\n      <td>109.7</td>\n    </tr>\n    <tr>\n      <th>16</th>\n      <td>Manufacturing</td>\n      <td>78.7</td>\n      <td>103.4</td>\n      <td>107.8</td>\n      <td>99.2</td>\n      <td>99.8</td>\n      <td>101.2</td>\n      <td>101.8</td>\n      <td>94.3</td>\n      <td>111.5</td>\n      <td>108.3</td>\n      <td>97.6</td>\n      <td>97</td>\n    </tr>\n  </tbody>\n</table>\n</div>"
     },
     "execution_count": 6,
     "metadata": {},
     "output_type": "execute_result"
    }
   ],
   "source": [
    "data = data[data.iloc[:, 0].isin([\"Mining and manufacturing\", \"Mining and quarrying\", \"Manufacturing\"])]\n",
    "\n",
    "data"
   ],
   "metadata": {
    "collapsed": false,
    "ExecuteTime": {
     "end_time": "2025-01-28T13:20:59.492809Z",
     "start_time": "2025-01-28T13:20:59.487669Z"
    }
   },
   "id": "a2da81077a0df62b"
  },
  {
   "cell_type": "code",
   "execution_count": 7,
   "outputs": [
    {
     "name": "stderr",
     "output_type": "stream",
     "text": [
      "/var/folders/q6/zqzbkz3d7b1_v631qbw77w080000gn/T/ipykernel_11388/3550022826.py:1: SettingWithCopyWarning: \n",
      "A value is trying to be set on a copy of a slice from a DataFrame.\n",
      "Try using .loc[row_indexer,col_indexer] = value instead\n",
      "\n",
      "See the caveats in the documentation: https://pandas.pydata.org/pandas-docs/stable/user_guide/indexing.html#returning-a-view-versus-a-copy\n",
      "  data['Average'] = data.iloc[:, 2:14].mean(axis=1)\n"
     ]
    },
    {
     "data": {
      "text/plain": "                          14     2\n8   Mining and manufacturing  84.3\n9       Mining and quarrying  96.6\n16             Manufacturing  78.7",
      "text/html": "<div>\n<style scoped>\n    .dataframe tbody tr th:only-of-type {\n        vertical-align: middle;\n    }\n\n    .dataframe tbody tr th {\n        vertical-align: top;\n    }\n\n    .dataframe thead th {\n        text-align: right;\n    }\n</style>\n<table border=\"1\" class=\"dataframe\">\n  <thead>\n    <tr style=\"text-align: right;\">\n      <th></th>\n      <th>14</th>\n      <th>2</th>\n    </tr>\n  </thead>\n  <tbody>\n    <tr>\n      <th>8</th>\n      <td>Mining and manufacturing</td>\n      <td>84.3</td>\n    </tr>\n    <tr>\n      <th>9</th>\n      <td>Mining and quarrying</td>\n      <td>96.6</td>\n    </tr>\n    <tr>\n      <th>16</th>\n      <td>Manufacturing</td>\n      <td>78.7</td>\n    </tr>\n  </tbody>\n</table>\n</div>"
     },
     "execution_count": 7,
     "metadata": {},
     "output_type": "execute_result"
    }
   ],
   "source": [
    "data['Average'] = data.iloc[:, 2:14].mean(axis=1)\n",
    "data = data.drop(columns=data.columns[2:14])\n",
    "\n",
    "data"
   ],
   "metadata": {
    "collapsed": false,
    "ExecuteTime": {
     "end_time": "2025-01-28T13:20:59.540814Z",
     "start_time": "2025-01-28T13:20:59.491194Z"
    }
   },
   "id": "dc3f4ffaf310ef6f"
  },
  {
   "cell_type": "code",
   "execution_count": 8,
   "outputs": [
    {
     "data": {
      "text/plain": "                          0     1\n0  Mining and manufacturing  84.3\n1      Mining and quarrying  96.6\n2             Manufacturing  78.7",
      "text/html": "<div>\n<style scoped>\n    .dataframe tbody tr th:only-of-type {\n        vertical-align: middle;\n    }\n\n    .dataframe tbody tr th {\n        vertical-align: top;\n    }\n\n    .dataframe thead th {\n        text-align: right;\n    }\n</style>\n<table border=\"1\" class=\"dataframe\">\n  <thead>\n    <tr style=\"text-align: right;\">\n      <th></th>\n      <th>0</th>\n      <th>1</th>\n    </tr>\n  </thead>\n  <tbody>\n    <tr>\n      <th>0</th>\n      <td>Mining and manufacturing</td>\n      <td>84.3</td>\n    </tr>\n    <tr>\n      <th>1</th>\n      <td>Mining and quarrying</td>\n      <td>96.6</td>\n    </tr>\n    <tr>\n      <th>2</th>\n      <td>Manufacturing</td>\n      <td>78.7</td>\n    </tr>\n  </tbody>\n</table>\n</div>"
     },
     "execution_count": 8,
     "metadata": {},
     "output_type": "execute_result"
    }
   ],
   "source": [
    "data.columns = [0, 1]\n",
    "data.index = [0, 1, 2]\n",
    "data"
   ],
   "metadata": {
    "collapsed": false,
    "ExecuteTime": {
     "end_time": "2025-01-28T13:20:59.553243Z",
     "start_time": "2025-01-28T13:20:59.496198Z"
    }
   },
   "id": "b3c296ae7226a57d"
  },
  {
   "cell_type": "code",
   "execution_count": 9,
   "outputs": [],
   "source": [
    "from translation import clean_manufacturing_files"
   ],
   "metadata": {
    "collapsed": false,
    "ExecuteTime": {
     "end_time": "2025-01-28T13:20:59.553423Z",
     "start_time": "2025-01-28T13:20:59.499102Z"
    }
   },
   "id": "67112dd60c63cd33"
  },
  {
   "cell_type": "code",
   "execution_count": 18,
   "outputs": [],
   "source": [
    "file_path_2015 = 'data/Indices of Industrial Production 2015.xlsx' \n",
    "\n",
    "file_path_2016 = 'data/Indices of Industrial Production 2016.xlsx'\n",
    "\n",
    "file_path_2017 = 'data/Indices of Industrial Production 2017.xlsx'\n",
    "\n",
    "file_path_2018 = 'data/Indices of Industrial Production 2018.xlsx'\n",
    "\n",
    "file_path_2019 = 'data/Indices of Industrial Production 2019.xlsx'\n",
    "\n",
    "file_path_2020 = 'data/Indices of Industrial Production 2020.xlsx'\n",
    "\n",
    "file_path_2021 = 'data/Indices of Industrial Production 2021.xlsx'\n",
    "\n",
    "file_path_2022 = 'data/Indices of Industrial Production 2022.xlsx'\n",
    "\n",
    "file_path_2023 = 'data/Indices of Industrial Production 2023.xlsx'\n",
    "\n",
    "file_path_2024 = 'data/Indices of Industrial Production 2024.xlsx'\n",
    "\n",
    "files = [file_path_2015, file_path_2016, file_path_2017, file_path_2018, file_path_2019, file_path_2020, file_path_2021, file_path_2022, file_path_2023, file_path_2024]"
   ],
   "metadata": {
    "collapsed": false,
    "ExecuteTime": {
     "end_time": "2025-01-28T13:28:43.659969Z",
     "start_time": "2025-01-28T13:28:43.659236Z"
    }
   },
   "id": "5f2922a451ee1959"
  },
  {
   "cell_type": "code",
   "execution_count": 21,
   "outputs": [
    {
     "name": "stdout",
     "output_type": "stream",
     "text": [
      "{2015:                           0     1\n",
      "0  Mining and manufacturing  84.3\n",
      "1      Mining and quarrying  96.6\n",
      "2             Manufacturing  78.7, 2016:                           0     1\n",
      "0  Mining and manufacturing  84.9\n",
      "1      Mining and quarrying  97.5\n",
      "2             Manufacturing  79.1, 2017:                           0     1\n",
      "0  Mining and manufacturing  84.9\n",
      "1      Mining and quarrying  97.1\n",
      "2             Manufacturing  79.7, 2018:                           0      1\n",
      "0  Mining and manufacturing   89.3\n",
      "1      Mining and quarrying  100.6\n",
      "2             Manufacturing   84.8, 2019:                           0     1\n",
      "0  Mining and manufacturing  88.8\n",
      "1      Mining and quarrying  96.4\n",
      "2             Manufacturing  85.6, 2020:                           0      1\n",
      "0  Mining and manufacturing   90.2\n",
      "1      Mining and quarrying  103.9\n",
      "2             Manufacturing   84.8, 2021:                           0     1\n",
      "0  Mining and manufacturing  82.9\n",
      "1      Mining and quarrying  95.9\n",
      "2             Manufacturing  77.7, 2022:                           0     1\n",
      "0  Mining and manufacturing  85.1\n",
      "1      Mining and quarrying  96.6\n",
      "2             Manufacturing  80.6, 2023:                           0      1\n",
      "0  Mining and manufacturing   93.1\n",
      "1      Mining and quarrying  102.4\n",
      "2             Manufacturing     89, 2024:                           0      1\n",
      "0  Mining and manufacturing   87.5\n",
      "1      Mining and quarrying  101.8\n",
      "2             Manufacturing   81.9}\n"
     ]
    }
   ],
   "source": [
    "year = 2015\n",
    "data_frames = {}\n",
    "for path in files:\n",
    "    data = clean_manufacturing_files(path)\n",
    "    data_frames[year] = data\n",
    "    \n",
    "    year += 1\n",
    "\n",
    "print(data_frames)"
   ],
   "metadata": {
    "collapsed": false,
    "ExecuteTime": {
     "end_time": "2025-01-28T14:01:58.002227Z",
     "start_time": "2025-01-28T14:01:57.670095Z"
    }
   },
   "id": "f8be33ffb557f227"
  },
  {
   "cell_type": "code",
   "execution_count": 23,
   "outputs": [
    {
     "data": {
      "text/plain": "                   Category  2015  2016  2017   2018  2019   2020  2021  2022  \\\n0  Mining and manufacturing  84.3  84.9  84.9   89.3  88.8   90.2  82.9  85.1   \n1      Mining and quarrying  96.6  97.5  97.1  100.6  96.4  103.9  95.9  96.6   \n2             Manufacturing  78.7  79.1  79.7   84.8  85.6   84.8  77.7  80.6   \n\n    2023   2024  \n0   93.1   87.5  \n1  102.4  101.8  \n2     89   81.9  ",
      "text/html": "<div>\n<style scoped>\n    .dataframe tbody tr th:only-of-type {\n        vertical-align: middle;\n    }\n\n    .dataframe tbody tr th {\n        vertical-align: top;\n    }\n\n    .dataframe thead th {\n        text-align: right;\n    }\n</style>\n<table border=\"1\" class=\"dataframe\">\n  <thead>\n    <tr style=\"text-align: right;\">\n      <th></th>\n      <th>Category</th>\n      <th>2015</th>\n      <th>2016</th>\n      <th>2017</th>\n      <th>2018</th>\n      <th>2019</th>\n      <th>2020</th>\n      <th>2021</th>\n      <th>2022</th>\n      <th>2023</th>\n      <th>2024</th>\n    </tr>\n  </thead>\n  <tbody>\n    <tr>\n      <th>0</th>\n      <td>Mining and manufacturing</td>\n      <td>84.3</td>\n      <td>84.9</td>\n      <td>84.9</td>\n      <td>89.3</td>\n      <td>88.8</td>\n      <td>90.2</td>\n      <td>82.9</td>\n      <td>85.1</td>\n      <td>93.1</td>\n      <td>87.5</td>\n    </tr>\n    <tr>\n      <th>1</th>\n      <td>Mining and quarrying</td>\n      <td>96.6</td>\n      <td>97.5</td>\n      <td>97.1</td>\n      <td>100.6</td>\n      <td>96.4</td>\n      <td>103.9</td>\n      <td>95.9</td>\n      <td>96.6</td>\n      <td>102.4</td>\n      <td>101.8</td>\n    </tr>\n    <tr>\n      <th>2</th>\n      <td>Manufacturing</td>\n      <td>78.7</td>\n      <td>79.1</td>\n      <td>79.7</td>\n      <td>84.8</td>\n      <td>85.6</td>\n      <td>84.8</td>\n      <td>77.7</td>\n      <td>80.6</td>\n      <td>89</td>\n      <td>81.9</td>\n    </tr>\n  </tbody>\n</table>\n</div>"
     },
     "execution_count": 23,
     "metadata": {},
     "output_type": "execute_result"
    }
   ],
   "source": [
    "data_merged = data_frames[2015].copy()\n",
    "data_merged.columns = ['Category', 2015]\n",
    "\n",
    "# Merge subsequent years into the result DataFrame\n",
    "for year, df in data_frames.items():\n",
    "    if year != 2015:\n",
    "        df.columns = ['Category', year] \n",
    "        data_merged = data_merged.merge(df, on='Category', how='inner')  \n",
    "\n",
    "data_merged"
   ],
   "metadata": {
    "collapsed": false,
    "ExecuteTime": {
     "end_time": "2025-01-28T14:06:25.158376Z",
     "start_time": "2025-01-28T14:06:25.137827Z"
    }
   },
   "id": "84d29457fbf7f1fb"
  },
  {
   "cell_type": "code",
   "execution_count": null,
   "outputs": [],
   "source": [
    "import matplotlib.pyplot as plt\n",
    "\n",
    "# Set the 'Category' column as the index for easier plotting\n",
    "data_merged.set_index('Category', inplace=True)\n",
    "\n",
    "# Transpose the DataFrame to have years on the x-axis\n",
    "result_transposed = data_merged.transpose()\n",
    "\n",
    "# Plot the data\n",
    "plt.figure(figsize=(10, 6))\n",
    "for category in result_transposed.columns:\n",
    "    plt.plot(result_transposed.index, result_transposed[category], label=category)\n",
    "\n",
    "# Add labels, title, and legend\n",
    "plt.title(\"Progression Over Years\", fontsize=14)\n",
    "plt.xlabel(\"Year\", fontsize=12)\n",
    "plt.ylabel(\"Value\", fontsize=12)\n",
    "plt.legend(title=\"Category\", loc=\"best\")\n",
    "plt.grid(True)\n",
    "plt.show()\n"
   ],
   "metadata": {
    "collapsed": false,
    "is_executing": true
   },
   "id": "4f48a739ce7814b5"
  },
  {
   "cell_type": "code",
   "execution_count": null,
   "outputs": [],
   "source": [],
   "metadata": {
    "collapsed": false
   },
   "id": "73610d3083453a64"
  }
 ],
 "metadata": {
  "kernelspec": {
   "display_name": "Python 3",
   "language": "python",
   "name": "python3"
  },
  "language_info": {
   "codemirror_mode": {
    "name": "ipython",
    "version": 2
   },
   "file_extension": ".py",
   "mimetype": "text/x-python",
   "name": "python",
   "nbconvert_exporter": "python",
   "pygments_lexer": "ipython2",
   "version": "2.7.6"
  }
 },
 "nbformat": 4,
 "nbformat_minor": 5
}
